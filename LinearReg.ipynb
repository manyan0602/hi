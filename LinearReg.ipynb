{
 "cells": [
  {
   "cell_type": "code",
   "execution_count": 1,
   "id": "cdba1713",
   "metadata": {},
   "outputs": [],
   "source": [
    "import pandas as pd"
   ]
  },
  {
   "cell_type": "code",
   "execution_count": 2,
   "id": "96aebf89",
   "metadata": {},
   "outputs": [],
   "source": [
    "data = pd.read_csv('food.csv')"
   ]
  },
  {
   "cell_type": "code",
   "execution_count": 3,
   "id": "66a9d60c",
   "metadata": {},
   "outputs": [
    {
     "data": {
      "text/html": [
       "<div>\n",
       "<style scoped>\n",
       "    .dataframe tbody tr th:only-of-type {\n",
       "        vertical-align: middle;\n",
       "    }\n",
       "\n",
       "    .dataframe tbody tr th {\n",
       "        vertical-align: top;\n",
       "    }\n",
       "\n",
       "    .dataframe thead th {\n",
       "        text-align: right;\n",
       "    }\n",
       "</style>\n",
       "<table border=\"1\" class=\"dataframe\">\n",
       "  <thead>\n",
       "    <tr style=\"text-align: right;\">\n",
       "      <th></th>\n",
       "      <th>6.1101</th>\n",
       "      <th>17.592</th>\n",
       "    </tr>\n",
       "  </thead>\n",
       "  <tbody>\n",
       "    <tr>\n",
       "      <th>0</th>\n",
       "      <td>5.5277</td>\n",
       "      <td>9.13020</td>\n",
       "    </tr>\n",
       "    <tr>\n",
       "      <th>1</th>\n",
       "      <td>8.5186</td>\n",
       "      <td>13.66200</td>\n",
       "    </tr>\n",
       "    <tr>\n",
       "      <th>2</th>\n",
       "      <td>7.0032</td>\n",
       "      <td>11.85400</td>\n",
       "    </tr>\n",
       "    <tr>\n",
       "      <th>3</th>\n",
       "      <td>5.8598</td>\n",
       "      <td>6.82330</td>\n",
       "    </tr>\n",
       "    <tr>\n",
       "      <th>4</th>\n",
       "      <td>8.3829</td>\n",
       "      <td>11.88600</td>\n",
       "    </tr>\n",
       "    <tr>\n",
       "      <th>...</th>\n",
       "      <td>...</td>\n",
       "      <td>...</td>\n",
       "    </tr>\n",
       "    <tr>\n",
       "      <th>91</th>\n",
       "      <td>5.8707</td>\n",
       "      <td>7.20290</td>\n",
       "    </tr>\n",
       "    <tr>\n",
       "      <th>92</th>\n",
       "      <td>5.3054</td>\n",
       "      <td>1.98690</td>\n",
       "    </tr>\n",
       "    <tr>\n",
       "      <th>93</th>\n",
       "      <td>8.2934</td>\n",
       "      <td>0.14454</td>\n",
       "    </tr>\n",
       "    <tr>\n",
       "      <th>94</th>\n",
       "      <td>13.3940</td>\n",
       "      <td>9.05510</td>\n",
       "    </tr>\n",
       "    <tr>\n",
       "      <th>95</th>\n",
       "      <td>5.4369</td>\n",
       "      <td>0.61705</td>\n",
       "    </tr>\n",
       "  </tbody>\n",
       "</table>\n",
       "<p>96 rows × 2 columns</p>\n",
       "</div>"
      ],
      "text/plain": [
       "     6.1101    17.592\n",
       "0    5.5277   9.13020\n",
       "1    8.5186  13.66200\n",
       "2    7.0032  11.85400\n",
       "3    5.8598   6.82330\n",
       "4    8.3829  11.88600\n",
       "..      ...       ...\n",
       "91   5.8707   7.20290\n",
       "92   5.3054   1.98690\n",
       "93   8.2934   0.14454\n",
       "94  13.3940   9.05510\n",
       "95   5.4369   0.61705\n",
       "\n",
       "[96 rows x 2 columns]"
      ]
     },
     "execution_count": 3,
     "metadata": {},
     "output_type": "execute_result"
    }
   ],
   "source": [
    "data"
   ]
  },
  {
   "cell_type": "code",
   "execution_count": 4,
   "id": "c8230a4d",
   "metadata": {},
   "outputs": [],
   "source": [
    "x = data['6.1101']\n",
    "y = data['17.592']"
   ]
  },
  {
   "cell_type": "code",
   "execution_count": 5,
   "id": "3e3f48ff",
   "metadata": {},
   "outputs": [
    {
     "data": {
      "text/plain": [
       "0      5.5277\n",
       "1      8.5186\n",
       "2      7.0032\n",
       "3      5.8598\n",
       "4      8.3829\n",
       "       ...   \n",
       "91     5.8707\n",
       "92     5.3054\n",
       "93     8.2934\n",
       "94    13.3940\n",
       "95     5.4369\n",
       "Name: 6.1101, Length: 96, dtype: float64"
      ]
     },
     "execution_count": 5,
     "metadata": {},
     "output_type": "execute_result"
    }
   ],
   "source": [
    "x"
   ]
  },
  {
   "cell_type": "code",
   "execution_count": 6,
   "id": "45a5d627",
   "metadata": {},
   "outputs": [
    {
     "data": {
      "text/plain": [
       "0      9.13020\n",
       "1     13.66200\n",
       "2     11.85400\n",
       "3      6.82330\n",
       "4     11.88600\n",
       "        ...   \n",
       "91     7.20290\n",
       "92     1.98690\n",
       "93     0.14454\n",
       "94     9.05510\n",
       "95     0.61705\n",
       "Name: 17.592, Length: 96, dtype: float64"
      ]
     },
     "execution_count": 6,
     "metadata": {},
     "output_type": "execute_result"
    }
   ],
   "source": [
    "y"
   ]
  },
  {
   "cell_type": "code",
   "execution_count": 8,
   "id": "6d78e528",
   "metadata": {},
   "outputs": [
    {
     "data": {
      "image/png": "[encoded data removed]",
      "text/plain": [
       "<Figure size 432x288 with 1 Axes>"
      ]
     },
     "metadata": {
      "needs_background": "light"
     },
     "output_type": "display_data"
    }
   ],
   "source": [
    "import matplotlib.pyplot as plt\n",
    "plt.scatter(x,y)\n",
    "plt.xlabel('Feature 1')\n",
    "plt.ylabel('Feature 2')\n",
    "plt.title('Scatterplot of Feature 1 Vs Feature 2')\n",
    "plt.show()"
   ]
  },
  {
   "cell_type": "code",
   "execution_count": 9,
   "id": "c135c5ad",
   "metadata": {},
   "outputs": [
    {
     "name": "stderr",
     "output_type": "stream",
     "text": [
      "C:\\Users\\riyaj\\anaconda3\\lib\\site-packages\\scipy\\__init__.py:146: UserWarning: A NumPy version >=1.16.5 and <1.23.0 is required for this version of SciPy (detected version 1.24.3\n",
      "  warnings.warn(f\"A NumPy version >={np_minversion} and <{np_maxversion}\"\n"
     ]
    },
    {
     "data": {
      "image/png": "[encoded data removed]",
      "text/plain": [
       "<Figure size 360x360 with 6 Axes>"
      ]
     },
     "metadata": {
      "needs_background": "light"
     },
     "output_type": "display_data"
    }
   ],
   "source": [
    "import seaborn as sns\n",
    "\n",
    "#creating a pairplot\n",
    "sns.pairplot(data)\n",
    "plt.show()"
   ]
  },
  {
   "cell_type": "code",
   "execution_count": 10,
   "id": "fad9eb64",
   "metadata": {},
   "outputs": [],
   "source": [
    "import numpy as np\n",
    "from scipy import stats"
   ]
  },
  {
   "cell_type": "code",
   "execution_count": 11,
   "id": "e081ece4",
   "metadata": {},
   "outputs": [
    {
     "name": "stdout",
     "output_type": "stream",
     "text": [
      "Correlation Matrix: \n",
      "          6.1101    17.592\n",
      "6.1101  1.000000  0.872157\n",
      "17.592  0.872157  1.000000\n"
     ]
    }
   ],
   "source": [
    "correlation_matrix = data.corr()\n",
    "\n",
    "print(\"Correlation Matrix: \")\n",
    "print(correlation_matrix)"
   ]
  },
  {
   "cell_type": "code",
   "execution_count": 12,
   "id": "55d75f2d",
   "metadata": {},
   "outputs": [
    {
     "name": "stdout",
     "output_type": "stream",
     "text": [
      "Linear Regression Parameters: \n",
      "Slope (Regression Coefficient): 1.2135472539083587\n",
      "Intercept: -4.211504005424093\n",
      "R-squared (coefficient of Determination): 0.7606583419339852\n",
      "P-value 6.110460481642768e-31\n",
      "Standard Error: 0.07021131328791101\n"
     ]
    }
   ],
   "source": [
    "slope, intercept, r_value, p_value, std_err = stats.linregress(x,y)\n",
    "\n",
    "print(f\"Linear Regression Parameters: \")\n",
    "print(f\"Slope (Regression Coefficient): {slope}\")\n",
    "print(f\"Intercept: {intercept}\")\n",
    "print(f\"R-squared (coefficient of Determination): {r_value**2}\")\n",
    "print(f\"P-value {p_value}\")\n",
    "print(f\"Standard Error: {std_err}\")"
   ]
  },
  {
   "cell_type": "code",
   "execution_count": 13,
   "id": "d69dfd3e",
   "metadata": {},
   "outputs": [],
   "source": [
    "#compute predicted values\n",
    "pred_y = slope * x + intercept\n",
    "\n",
    "#computing number of data points\n",
    "n = len(x)\n"
   ]
  },
  {
   "cell_type": "code",
   "execution_count": 14,
   "id": "7af74e0c",
   "metadata": {},
   "outputs": [],
   "source": [
    "#calculating the mean square error (cost)\n",
    "cost = np.mean((pred_y-y)**2)"
   ]
  },
  {
   "cell_type": "code",
   "execution_count": 15,
   "id": "5ace49cd",
   "metadata": {},
   "outputs": [],
   "source": [
    "#calculating the sum of squared errors (SSE)\n",
    "sse = np.sum((pred_y-y)**2)"
   ]
  },
  {
   "cell_type": "code",
   "execution_count": 16,
   "id": "f622d9cb",
   "metadata": {},
   "outputs": [],
   "source": [
    "#calculating the sum of squared regression (SSR)\n",
    "ssr = np.sum((pred_y-np.mean(y))**2)"
   ]
  },
  {
   "cell_type": "code",
   "execution_count": 17,
   "id": "d31690d9",
   "metadata": {},
   "outputs": [],
   "source": [
    "#calculating the sum of squared total (SST)\n",
    "sst = np.sum((y - np.mean(y))**2)"
   ]
  },
  {
   "cell_type": "code",
   "execution_count": 18,
   "id": "7ef3282e",
   "metadata": {},
   "outputs": [],
   "source": [
    "#calculate coefficient of determination (R-square)\n",
    "r_sq = 1 - (sse/sst)"
   ]
  },
  {
   "cell_type": "code",
   "execution_count": 19,
   "id": "818963af",
   "metadata": {},
   "outputs": [
    {
     "name": "stdout",
     "output_type": "stream",
     "text": [
      "Cost (Mean Squared Error): 6.919163806316008\n",
      "SSE (Sum of Squared Errors): 664.2397254063369\n",
      "SSR (Sum of Squared Regression): 2111.0386393116273\n",
      "SST (Sum of Squared Total): 2775.2783647179626\n",
      "R-squared (Coefficient of Determination): 0.7606583419339846\n"
     ]
    }
   ],
   "source": [
    "print(f\"Cost (Mean Squared Error): {cost}\")\n",
    "print(f\"SSE (Sum of Squared Errors): {sse}\")\n",
    "print(f\"SSR (Sum of Squared Regression): {ssr}\")\n",
    "print(f\"SST (Sum of Squared Total): {sst}\")\n",
    "print(f\"R-squared (Coefficient of Determination): {r_sq}\")"
   ]
  },
  {
   "cell_type": "code",
   "execution_count": 20,
   "id": "03280b7c",
   "metadata": {},
   "outputs": [
    {
     "data": {
      "text/plain": [
       "<matplotlib.collections.PathCollection at 0x278f65cdaf0>"
      ]
     },
     "execution_count": 20,
     "metadata": {},
     "output_type": "execute_result"
    },
    {
     "data": {
      "image/png": "[encoded data removed]",
      "text/plain": [
       "<Figure size 432x288 with 1 Axes>"
      ]
     },
     "metadata": {
      "needs_background": "light"
     },
     "output_type": "display_data"
    }
   ],
   "source": [
    "plt.scatter(x,y,label='Data Points', color='blue')"
   ]
  },
  {
   "cell_type": "code",
   "execution_count": 26,
   "id": "2ab8af07",
   "metadata": {},
   "outputs": [
    {
     "data": {
      "image/png": "[encoded data removed]",
      "text/plain": [
       "<Figure size 432x288 with 1 Axes>"
      ]
     },
     "metadata": {
      "needs_background": "light"
     },
     "output_type": "display_data"
    }
   ],
   "source": [
    "# Plot the data points\n",
    "plt.scatter(x, y, label='Data Points', color='blue')\n",
    "\n",
    "# Plot the linear regression line\n",
    "plt.plot(x, pred_y, label=f'Linear Regression Line: y = {slope:.2f}x + {intercept:.2f}', color='red')\n",
    "\n",
    "# Label the axes and add a legend\n",
    "plt.xlabel('Feature1')\n",
    "plt.ylabel('Feature2')\n",
    "plt.legend()\n",
    "\n",
    "# Show the plot\n",
    "plt.show()"
   ]
  },
  {
   "cell_type": "code",
   "execution_count": null,
   "id": "c548b308",
   "metadata": {},
   "outputs": [],
   "source": []
  }
 ],
 "metadata": {
  "kernelspec": {
   "display_name": "Python 3 (ipykernel)",
   "language": "python",
   "name": "python3"
  },
  "language_info": {
   "codemirror_mode": {
    "name": "ipython",
    "version": 3
   },
   "file_extension": ".py",
   "mimetype": "text/x-python",
   "name": "python",
   "nbconvert_exporter": "python",
   "pygments_lexer": "ipython3",
   "version": "3.9.12"
  }
 },
 "nbformat": 4,
 "nbformat_minor": 5
}
