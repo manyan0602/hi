{
 "cells": [
  {
   "cell_type": "code",
   "execution_count": 1,
   "id": "f0dd482d",
   "metadata": {},
   "outputs": [],
   "source": [
    "import numpy as np"
   ]
  },
  {
   "cell_type": "code",
   "execution_count": 2,
   "id": "40b60272",
   "metadata": {},
   "outputs": [
    {
     "name": "stderr",
     "output_type": "stream",
     "text": [
      "C:\\Users\\riyaj\\anaconda3\\lib\\site-packages\\scipy\\__init__.py:146: UserWarning: A NumPy version >=1.16.5 and <1.23.0 is required for this version of SciPy (detected version 1.24.3\n",
      "  warnings.warn(f\"A NumPy version >={np_minversion} and <{np_maxversion}\"\n"
     ]
    }
   ],
   "source": [
    "from sklearn.cluster import KMeans"
   ]
  },
  {
   "cell_type": "code",
   "execution_count": 3,
   "id": "22ef4024",
   "metadata": {},
   "outputs": [],
   "source": [
    "x = np.array([[5.9,3.2],[4.6,2.9],[6.2,2.8],[4.7,3.2],[5.5,4.2],[5.0,3.0],[4.9,3.1],[6.7,3.1],[5.1,3.8],[6.0,3.0]])"
   ]
  },
  {
   "cell_type": "code",
   "execution_count": 4,
   "id": "bf40f760",
   "metadata": {},
   "outputs": [
    {
     "data": {
      "text/plain": [
       "array([[5.9, 3.2],\n",
       "       [4.6, 2.9],\n",
       "       [6.2, 2.8],\n",
       "       [4.7, 3.2],\n",
       "       [5.5, 4.2],\n",
       "       [5. , 3. ],\n",
       "       [4.9, 3.1],\n",
       "       [6.7, 3.1],\n",
       "       [5.1, 3.8],\n",
       "       [6. , 3. ]])"
      ]
     },
     "execution_count": 4,
     "metadata": {},
     "output_type": "execute_result"
    }
   ],
   "source": [
    "x"
   ]
  },
  {
   "cell_type": "code",
   "execution_count": 5,
   "id": "7c180ad1",
   "metadata": {},
   "outputs": [],
   "source": [
    "k=3"
   ]
  },
  {
   "cell_type": "code",
   "execution_count": 6,
   "id": "f2351142",
   "metadata": {},
   "outputs": [],
   "source": [
    "initial_clusters = np.array([[6.2,3.2],[6.6,3.7],[6.5,3.0]])"
   ]
  },
  {
   "cell_type": "code",
   "execution_count": 7,
   "id": "a02c185b",
   "metadata": {},
   "outputs": [],
   "source": [
    "from sklearn.cluster import KMeans"
   ]
  },
  {
   "cell_type": "code",
   "execution_count": 11,
   "id": "d1fafb9a",
   "metadata": {
    "scrolled": true
   },
   "outputs": [
    {
     "name": "stdout",
     "output_type": "stream",
     "text": [
      "After one iteration, red is: [5.17142857 3.17142857]\n",
      "No. of iterations:  1\n"
     ]
    }
   ],
   "source": [
    "#first section\n",
    "kmeans = KMeans(n_clusters=k, init = initial_clusters,n_init=1,max_iter=1)\n",
    "kmeans.fit(x)\n",
    "first_cluster_center = kmeans.cluster_centers_\n",
    "a = first_cluster_center[0]\n",
    "print(\"After one iteration, red is:\",a)\n",
    "iters = kmeans.n_iter_\n",
    "print(\"No. of iterations: \",iters)\n"
   ]
  },
  {
   "cell_type": "code",
   "execution_count": 12,
   "id": "2bc2633a",
   "metadata": {},
   "outputs": [
    {
     "name": "stdout",
     "output_type": "stream",
     "text": [
      "After two iterations, green is:  [5.3 4. ]\n",
      "Number of iterations:  2\n"
     ]
    }
   ],
   "source": [
    "#second section\n",
    "km = KMeans(n_clusters=k, init = initial_clusters, n_init=1, max_iter=2)\n",
    "km.fit(x)\n",
    "first_cluster_center = km.cluster_centers_\n",
    "b = first_cluster_center[1]\n",
    "print(\"After two iterations, green is: \",b)\n",
    "iters = km.n_iter_\n",
    "print(\"Number of iterations: \",iters)"
   ]
  },
  {
   "cell_type": "code",
   "execution_count": 14,
   "id": "d0507be1",
   "metadata": {},
   "outputs": [
    {
     "name": "stdout",
     "output_type": "stream",
     "text": [
      "After cluster converges, blue is: [6.2   3.025]\n",
      "Number of iterations:  3\n"
     ]
    }
   ],
   "source": [
    "#third section\n",
    "kmx = KMeans(n_clusters=k, init=initial_clusters,n_init=1)\n",
    "kmx.fit(x)\n",
    "c = first_cluster_center[2]\n",
    "print(\"After cluster converges, blue is:\",c)\n",
    "iters = kmx.n_iter_\n",
    "print(\"Number of iterations: \",iters)"
   ]
  },
  {
   "cell_type": "code",
   "execution_count": 15,
   "id": "897f6593",
   "metadata": {},
   "outputs": [
    {
     "name": "stdout",
     "output_type": "stream",
     "text": [
      "Number of iterations for all clusters to converge:  3\n"
     ]
    }
   ],
   "source": [
    "#fourth section\n",
    "kmxx = KMeans(n_clusters=k, init=initial_clusters, n_init=1)\n",
    "kmxx.fit(x)\n",
    "first_cluster_center = kmxx.cluster_centers_\n",
    "iters = kmxx.n_iter_\n",
    "print(\"Number of iterations for all clusters to converge: \",iters)"
   ]
  },
  {
   "cell_type": "code",
   "execution_count": 18,
   "id": "8c65a7dd",
   "metadata": {},
   "outputs": [],
   "source": [
    "import matplotlib.pyplot as plt"
   ]
  },
  {
   "cell_type": "code",
   "execution_count": 32,
   "id": "32c084b7",
   "metadata": {},
   "outputs": [
    {
     "data": {
      "text/plain": [
       "Text(0.5, 1.0, 'K-Means Clustering (3 Clusters)')"
      ]
     },
     "execution_count": 32,
     "metadata": {},
     "output_type": "execute_result"
    },
    {
     "data": {
      "image/png": "[encoded data removed]",
      "text/plain": [
       "<Figure size 432x288 with 1 Axes>"
      ]
     },
     "metadata": {
      "needs_background": "light"
     },
     "output_type": "display_data"
    }
   ],
   "source": [
    "import matplotlib.pyplot as plt\n",
    "import numpy as np\n",
    "\n",
    "# Create the scatterplot\n",
    "fig, ax = plt.subplots()\n",
    "ax.scatter(x[:, 0], x[:, 1], c=clusters,s=50, alpha=0.7)\n",
    "\n",
    "# Add the centroids\n",
    "ax.scatter([6.2, 6.6, 6.5], [3.2, 3.7, 3.0], c=['red', 'green', 'blue'], s=100, marker='*')\n",
    "\n",
    "# Set the axis labels\n",
    "ax.set_xlabel('Feature 1')\n",
    "ax.set_ylabel('Feature 2')\n",
    "\n",
    "# Add a title\n",
    "ax.set_title('K-Means Clustering (3 Clusters)')\n"
   ]
  },
  {
   "cell_type": "code",
   "execution_count": null,
   "id": "88f221dd",
   "metadata": {},
   "outputs": [],
   "source": []
  }
 ],
 "metadata": {
  "kernelspec": {
   "display_name": "Python 3 (ipykernel)",
   "language": "python",
   "name": "python3"
  },
  "language_info": {
   "codemirror_mode": {
    "name": "ipython",
    "version": 3
   },
   "file_extension": ".py",
   "mimetype": "text/x-python",
   "name": "python",
   "nbconvert_exporter": "python",
   "pygments_lexer": "ipython3",
   "version": "3.9.12"
  }
 },
 "nbformat": 4,
 "nbformat_minor": 5
}
