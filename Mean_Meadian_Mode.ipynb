{
 "cells": [
  {
   "cell_type": "code",
   "execution_count": 3,
   "id": "f9ea92d8",
   "metadata": {},
   "outputs": [],
   "source": [
    "import numpy as np"
   ]
  },
  {
   "cell_type": "code",
   "execution_count": 4,
   "id": "cf737554",
   "metadata": {},
   "outputs": [],
   "source": [
    "x = np.array([115.3,195.5, 120.5, 110.2, 90.4, 105.6, 110.9, 116.3, 122.3, 125.4])"
   ]
  },
  {
   "cell_type": "code",
   "execution_count": 5,
   "id": "bb3f65b5",
   "metadata": {},
   "outputs": [
    {
     "name": "stdout",
     "output_type": "stream",
     "text": [
      "Mean:  121.24000000000001\n"
     ]
    }
   ],
   "source": [
    "#Calculating mean\n",
    "mean_value = np.mean(x)\n",
    "print(\"Mean: \",mean_value)"
   ]
  },
  {
   "cell_type": "code",
   "execution_count": 6,
   "id": "5b305110",
   "metadata": {},
   "outputs": [
    {
     "name": "stdout",
     "output_type": "stream",
     "text": [
      "Median:  115.8\n"
     ]
    }
   ],
   "source": [
    "#Calculating median\n",
    "median_value = np.median(x)\n",
    "print(\"Median: \",median_value)"
   ]
  },
  {
   "cell_type": "code",
   "execution_count": 7,
   "id": "221181db",
   "metadata": {},
   "outputs": [
    {
     "name": "stdout",
     "output_type": "stream",
     "text": [
      "Standard Deviation:  26.490987146574962\n"
     ]
    }
   ],
   "source": [
    "#Calculating std dev\n",
    "std_dev = np.std(x)\n",
    "print(\"Standard Deviation: \",std_dev)"
   ]
  },
  {
   "cell_type": "code",
   "execution_count": 8,
   "id": "acfceb31",
   "metadata": {},
   "outputs": [
    {
     "name": "stdout",
     "output_type": "stream",
     "text": [
      "Variance:  701.7724\n"
     ]
    }
   ],
   "source": [
    "#Calculating Variance\n",
    "var_val = np.var(x)\n",
    "print(\"Variance: \",var_val)"
   ]
  },
  {
   "cell_type": "code",
   "execution_count": 9,
   "id": "d0b5cfa7",
   "metadata": {},
   "outputs": [
    {
     "name": "stdout",
     "output_type": "stream",
     "text": [
      "Min-Max Normalization:  [0.23691722 1.         0.28639391 0.18839201 0.         0.14462417\n",
      " 0.19505233 0.24643197 0.30352046 0.33301618]\n"
     ]
    }
   ],
   "source": [
    "#Calculating min-max normalization\n",
    "min_val = np.min(x)\n",
    "max_val = np.max(x)\n",
    "norm_x = (x-min_val)/(max_val-min_val)\n",
    "print(\"Min-Max Normalization: \", norm_x)"
   ]
  },
  {
   "cell_type": "code",
   "execution_count": 11,
   "id": "f818a04d",
   "metadata": {},
   "outputs": [
    {
     "name": "stdout",
     "output_type": "stream",
     "text": [
      "Standardization (Z-scores): [-0.2242272   2.80321755 -0.02793403 -0.41674551 -1.16416953 -0.59038948\n",
      " -0.39032143 -0.18647852  0.04001361  0.15703454]\n"
     ]
    }
   ],
   "source": [
    "#Calculating Standardization\n",
    "z_score = (x-mean_value)/std_dev\n",
    "print(\"Standardization (Z-scores):\",z_score)"
   ]
  },
  {
   "cell_type": "code",
   "execution_count": 12,
   "id": "34088e94",
   "metadata": {},
   "outputs": [
    {
     "name": "stderr",
     "output_type": "stream",
     "text": [
      "C:\\Users\\riyaj\\anaconda3\\lib\\site-packages\\scipy\\__init__.py:146: UserWarning: A NumPy version >=1.16.5 and <1.23.0 is required for this version of SciPy (detected version 1.24.3\n",
      "  warnings.warn(f\"A NumPy version >={np_minversion} and <{np_maxversion}\"\n"
     ]
    }
   ],
   "source": [
    "from scipy import stats"
   ]
  },
  {
   "cell_type": "code",
   "execution_count": 13,
   "id": "7f1e67b1",
   "metadata": {},
   "outputs": [],
   "source": [
    "mode_val = stats.mode(x)"
   ]
  },
  {
   "cell_type": "code",
   "execution_count": 14,
   "id": "bc62650b",
   "metadata": {},
   "outputs": [
    {
     "data": {
      "text/plain": [
       "ModeResult(mode=array([90.4]), count=array([1]))"
      ]
     },
     "execution_count": 14,
     "metadata": {},
     "output_type": "execute_result"
    }
   ],
   "source": [
    "mode_val"
   ]
  },
  {
   "cell_type": "code",
   "execution_count": 15,
   "id": "57a8b44a",
   "metadata": {},
   "outputs": [],
   "source": [
    "summ = np.sum(x)"
   ]
  },
  {
   "cell_type": "code",
   "execution_count": 16,
   "id": "b42dda72",
   "metadata": {},
   "outputs": [
    {
     "data": {
      "text/plain": [
       "1212.4"
      ]
     },
     "execution_count": 16,
     "metadata": {},
     "output_type": "execute_result"
    }
   ],
   "source": [
    "summ"
   ]
  },
  {
   "cell_type": "code",
   "execution_count": 17,
   "id": "abfae16d",
   "metadata": {},
   "outputs": [],
   "source": [
    "n = len(x)"
   ]
  },
  {
   "cell_type": "code",
   "execution_count": 18,
   "id": "53247f0f",
   "metadata": {},
   "outputs": [
    {
     "data": {
      "text/plain": [
       "10"
      ]
     },
     "execution_count": 18,
     "metadata": {},
     "output_type": "execute_result"
    }
   ],
   "source": [
    "n"
   ]
  },
  {
   "cell_type": "code",
   "execution_count": 19,
   "id": "c5622881",
   "metadata": {},
   "outputs": [
    {
     "data": {
      "text/plain": [
       "121.24000000000001"
      ]
     },
     "execution_count": 19,
     "metadata": {},
     "output_type": "execute_result"
    }
   ],
   "source": [
    "summ/n"
   ]
  },
  {
   "cell_type": "code",
   "execution_count": null,
   "id": "9b15fcb4",
   "metadata": {},
   "outputs": [],
   "source": []
  }
 ],
 "metadata": {
  "kernelspec": {
   "display_name": "Python 3 (ipykernel)",
   "language": "python",
   "name": "python3"
  },
  "language_info": {
   "codemirror_mode": {
    "name": "ipython",
    "version": 3
   },
   "file_extension": ".py",
   "mimetype": "text/x-python",
   "name": "python",
   "nbconvert_exporter": "python",
   "pygments_lexer": "ipython3",
   "version": "3.9.12"
  }
 },
 "nbformat": 4,
 "nbformat_minor": 5
}
